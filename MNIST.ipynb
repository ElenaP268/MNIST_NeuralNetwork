{
 "cells": [
  {
   "cell_type": "code",
   "execution_count": 1,
   "metadata": {},
   "outputs": [
    {
     "name": "stdout",
     "output_type": "stream",
     "text": [
      "torch.Size([100, 1, 28, 28]) torch.Size([100])\n",
      "600\n"
     ]
    },
    {
     "data": {
      "image/png": "[encoded data removed]",
      "text/plain": [
       "<Figure size 640x480 with 6 Axes>"
      ]
     },
     "metadata": {},
     "output_type": "display_data"
    }
   ],
   "source": [
    "import torch\n",
    "import torch.nn as nn\n",
    "import torchvision\n",
    "import torchvision.transforms as transforms\n",
    "import matplotlib.pyplot as plt\n",
    "\n",
    "# device config\n",
    "device = torch.device('cuda' if torch.cuda.is_available() else 'cpu')\n",
    "\n",
    "# hyper parameters\n",
    "input_size = 784 # 28x28 since need to flatten input features from 2D to 1D tensor\n",
    "hidden_size = 100 # can try different sizes\n",
    "num_classes = 10 # number of categories, since 10 digits\n",
    "num_epochs = 2 # number of times that the full dataset is trained\n",
    "batch_size = 100 # number of training data samples for each iteration\n",
    "learning_rate = 0.001 # magnitude of the change in the weights during update\n",
    "\n",
    "# MNIST dataset\n",
    "# convert image data to tensors to use in model\n",
    "train_dataset = torchvision.datasets.MNIST(root='./data', train=True, transform=transforms.ToTensor(), download=True)\n",
    "test_dataset = torchvision.datasets.MNIST(root='./data', train=False, transform=transforms.ToTensor())\n",
    "\n",
    "train_loader = torch.utils.data.DataLoader(dataset=train_dataset, batch_size=batch_size, shuffle=True)\n",
    "test_loader = torch.utils.data.DataLoader(dataset=test_dataset, batch_size=batch_size, shuffle=False)\n",
    "\n",
    "examples = iter(train_loader) # to iterate through samples\n",
    "samples, labels = next(examples)\n",
    "print(samples.shape, labels.shape) \n",
    "# samples.shape returns batch sample size 100, 1 channel (color information, only 1 since grayscale), 28x28 2D image array and labels.shape 100 (1 value per sample)\n",
    "print(len(train_loader))\n",
    "\n",
    "for i in range(6):\n",
    "    plt.subplot(2,3, i+1) # plot image samples with 2 rows and 3 columns (since 6 images), and index i+1\n",
    "    plt.imshow(samples[i][0], cmap='gray') # show each sample's data (only element 0 since 1 channel) and colormap (grayscale)\n",
    "plt.show()"
   ]
  },
  {
   "cell_type": "code",
   "execution_count": 2,
   "metadata": {},
   "outputs": [],
   "source": [
    "class NeuralNet(nn.Module): # custom neural net derived from pytorch\n",
    "    def __init__(self, input_size, hidden_size, num_classes):\n",
    "        super(NeuralNet, self).__init__()\n",
    "        self.l1 = nn.Linear(input_size, hidden_size) # layer 1 uses linear function on neurons using input\n",
    "        self.relu = nn.ReLU() # activation function, decides how the neurons in next layer activate based on factoring in weights and activations of previous neurons (converts activation values to range 0 to +)\n",
    "        self.l2 = nn.Linear(hidden_size, num_classes) # layer 2 uses linear function on neurons to return output\n",
    "    \n",
    "    def forward(self, x): # trains by going forward through neural net to calculate initial output values\n",
    "        out = self.l1(x) # apply layer 1 on input neurons\n",
    "        out = self.relu(out) \n",
    "        out = self.l2(out) # apply layer 2 on layer 1 output neurons to get class values\n",
    "        return out "
   ]
  },
  {
   "cell_type": "code",
   "execution_count": 3,
   "metadata": {},
   "outputs": [
    {
     "name": "stdout",
     "output_type": "stream",
     "text": [
      "epoch 1 / 2, step 100 / 600, loss = 0.4449\n",
      "epoch 1 / 2, step 200 / 600, loss = 0.3308\n",
      "epoch 1 / 2, step 300 / 600, loss = 0.3468\n",
      "epoch 1 / 2, step 400 / 600, loss = 0.1748\n",
      "epoch 1 / 2, step 500 / 600, loss = 0.2713\n",
      "epoch 1 / 2, step 600 / 600, loss = 0.2474\n",
      "epoch 2 / 2, step 100 / 600, loss = 0.2654\n",
      "epoch 2 / 2, step 200 / 600, loss = 0.2822\n",
      "epoch 2 / 2, step 300 / 600, loss = 0.1565\n",
      "epoch 2 / 2, step 400 / 600, loss = 0.2400\n",
      "epoch 2 / 2, step 500 / 600, loss = 0.3034\n",
      "epoch 2 / 2, step 600 / 600, loss = 0.1525\n"
     ]
    }
   ],
   "source": [
    "model = NeuralNet(input_size, hidden_size, num_classes)\n",
    "\n",
    "# uses cross entropy loss which for each sample averages the actual class Y  * log(predicted class probability Y-hat)\n",
    "# then uses softmax to get standardized probabilities for each of the classes within range 0-1\n",
    "criterion = nn.CrossEntropyLoss()\n",
    "optimizer = torch.optim.Adam(model.parameters(), lr=learning_rate) # optimizer to update weights using gradients calculated from loss\n",
    "\n",
    "# train samples\n",
    "n_total_steps = len(train_loader) # num iterations is 600 and batch size 100, so 60000 total samples\n",
    "for epoch in range(num_epochs):\n",
    "    for i, (images, labels) in enumerate(train_loader):\n",
    "        images = images.reshape(-1, 28*28).to(device) # reshape images array from 100,1,28,28 to 100,784 due to input feature size 784\n",
    "        labels = labels.to(device)\n",
    "\n",
    "        # forward pass through neural network to get initial output class values\n",
    "        outputs = model(images)\n",
    "        loss = criterion(outputs, labels)\n",
    "\n",
    "        # backpropagation to calculate gradients and then update weights \n",
    "        # find gradient d Loss / dw from output layer to input layer, via chain rule applied to equation applying weights to activations and to activation function applied on that result\n",
    "        optimizer.zero_grad() # avoids adding gradients from previous sample to current\n",
    "        loss.backward()\n",
    "        optimizer.step()\n",
    "\n",
    "        if (i+1) % 100 == 0: # print for every 100 samples\n",
    "            print(f'epoch {epoch + 1} / {num_epochs}, step {i+1} / {n_total_steps}, loss = {loss.item():.4f}')"
   ]
  },
  {
   "cell_type": "code",
   "execution_count": 4,
   "metadata": {},
   "outputs": [
    {
     "name": "stdout",
     "output_type": "stream",
     "text": [
      "accuracy = 95.18\n"
     ]
    }
   ],
   "source": [
    "# test performance\n",
    "with torch.no_grad(): # don't need to store gradient calculations for memory efficiency\n",
    "    n_correct = 0\n",
    "    n_samples = 0\n",
    "    for images, labels in test_loader:\n",
    "        images = images.reshape(-1, 28*28).to(device) # reshape images array from 100,1,28,28 to 100,784 due to input size 784\n",
    "        labels = labels.to(device)\n",
    "        outputs = model(images)\n",
    "\n",
    "        # find max probabilities for classes along dimension 1, returns values and indexes (labels) so store indexes in predictions\n",
    "        _, predictions = torch.max(outputs, 1) \n",
    "        n_samples += labels.shape[0] # adds num samples in current batch\n",
    "        n_correct += (predictions == labels).sum().item() # adds 1 for each correct prediction\n",
    "\n",
    "    acc = 100.0 * n_correct / n_samples\n",
    "    print(f'accuracy = {acc}') # accuracy is around 95% initially without any model adjustments"
   ]
  }
 ],
 "metadata": {
  "kernelspec": {
   "display_name": "base",
   "language": "python",
   "name": "python3"
  },
  "language_info": {
   "codemirror_mode": {
    "name": "ipython",
    "version": 3
   },
   "file_extension": ".py",
   "mimetype": "text/x-python",
   "name": "python",
   "nbconvert_exporter": "python",
   "pygments_lexer": "ipython3",
   "version": "3.9.18"
  }
 },
 "nbformat": 4,
 "nbformat_minor": 2
}
