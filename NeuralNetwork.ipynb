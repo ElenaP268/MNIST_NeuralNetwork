{
 "cells": [
  {
   "cell_type": "code",
   "execution_count": 9,
   "metadata": {},
   "outputs": [
    {
     "name": "stdout",
     "output_type": "stream",
     "text": [
      "torch.Size([100, 1, 28, 28]) torch.Size([100])\n"
     ]
    },
    {
     "data": {
      "image/png": "[encoded data removed]",
      "text/plain": [
       "<Figure size 640x480 with 6 Axes>"
      ]
     },
     "metadata": {},
     "output_type": "display_data"
    }
   ],
   "source": [
    "import torch\n",
    "import torch.nn as nn\n",
    "import torchvision\n",
    "import torchvision.transforms as transforms\n",
    "import matplotlib.pyplot as plt\n",
    "\n",
    "# device config\n",
    "device = torch.device('cuda' if torch.cuda.is_available() else 'cpu')\n",
    "\n",
    "# hyper parameters\n",
    "input_size = 784 # 28x28 since need to flatten input from 2D to 1D tensor\n",
    "hidden_size = 100 # can try different sizes\n",
    "num_classes = 10 # number of categories, since 10 digits\n",
    "num_epochs = 2 # number of times that the full dataset is trained\n",
    "batch_size = 100 # number of training data samples for each iteration\n",
    "learning_rate = 0.001 # magnitude of the change in the weights during update\n",
    "\n",
    "# MNIST dataset\n",
    "# convert image data to tensors to use in model\n",
    "train_dataset = torchvision.datasets.MNIST(root='./data', train=True, transform=transforms.ToTensor(), download=True)\n",
    "test_dataset = torchvision.datasets.MNIST(root='./data', train=False, transform=transforms.ToTensor())\n",
    "\n",
    "train_loader = torch.utils.data.DataLoader(dataset=train_dataset, batch_size=batch_size, shuffle=True)\n",
    "test_loader = torch.utils.data.DataLoader(dataset=test_dataset, batch_size=batch_size, shuffle=False)\n",
    "\n",
    "examples = iter(train_loader) # to iterate through samples\n",
    "samples, labels = next(examples)\n",
    "print(samples.shape, labels.shape) \n",
    "# samples.shape returns batch sample size 100, 1 channel (color information, only 1 since grayscale), 28x28 2D image array and labels.shape 100 (1 value per sample)\n",
    "\n",
    "for i in range(6):\n",
    "    plt.subplot(2,3, i+1) # plot image samples with 2 rows and 3 columns (since 6 images), and index i+1\n",
    "    plt.imshow(samples[i][0], cmap='gray') # show each sample's data (only element 0 since 1 channel) and colormap (grayscale)\n",
    "plt.show()"
   ]
  },
  {
   "cell_type": "code",
   "execution_count": 10,
   "metadata": {},
   "outputs": [],
   "source": [
    "class NeuralNet(nn.Module): # custom neural net derived from pytorch\n",
    "    def __init__(self, input_size, hidden_size, num_classes):\n",
    "        super(NeuralNet, self).__init__()\n",
    "        self.l1 = nn.Linear(input_size, hidden_size) # layer 1 uses linear function on neurons using input\n",
    "        self.relu = nn.ReLU() # activation function, decides how the neurons in next layer activate based on factoring in weights and activations of previous neurons (converts activation values to range 0 to +)\n",
    "        self.l2 = nn.Linear(hidden_size, num_classes) # layer 2 uses linear function on neurons to return output\n",
    "    \n",
    "    def forward(self, x): # trains by going forward through neural net to calculate initial output values\n",
    "        out = self.l1(x) # apply layer 1 on input neurons\n",
    "        out = self.relu(out) \n",
    "        out = self.l2(out) # apply layer 2 on layer 1 output neurons to get class values\n",
    "        return out "
   ]
  },
  {
   "cell_type": "code",
   "execution_count": null,
   "metadata": {},
   "outputs": [],
   "source": []
  }
 ],
 "metadata": {
  "kernelspec": {
   "display_name": "base",
   "language": "python",
   "name": "python3"
  },
  "language_info": {
   "codemirror_mode": {
    "name": "ipython",
    "version": 3
   },
   "file_extension": ".py",
   "mimetype": "text/x-python",
   "name": "python",
   "nbconvert_exporter": "python",
   "pygments_lexer": "ipython3",
   "version": "3.9.18"
  }
 },
 "nbformat": 4,
 "nbformat_minor": 2
}
